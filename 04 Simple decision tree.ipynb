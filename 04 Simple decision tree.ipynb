{
 "cells": [
  {
   "cell_type": "markdown",
   "id": "161455c0",
   "metadata": {},
   "source": [
    "_____________________\n",
    "<h3><b>4. Simple decision tree</b></h3>\n",
    "\n",
    "___________________"
   ]
  },
  {
   "cell_type": "code",
   "execution_count": 1,
   "id": "abd5be4d",
   "metadata": {},
   "outputs": [],
   "source": [
    "#import libraries\n",
    "import numpy as np\n",
    "import pandas as pd\n",
    "import os\n",
    "import matplotlib.pyplot as plt\n",
    "import matplotlib.image as mpimg\n",
    "%matplotlib inline\n",
    "import seaborn as sns\n",
    "import tensorflow as tf #tf version is 1.12\n",
    "from sklearn.preprocessing import StandardScaler\n",
    "from sklearn.decomposition import PCA\n",
    "from sklearn.pipeline import Pipeline\n",
    "from sklearn.tree import DecisionTreeClassifier\n",
    "from sklearn.tree import export_graphviz\n",
    "import graphviz"
   ]
  },
  {
   "cell_type": "code",
   "execution_count": 2,
   "id": "30ca877d",
   "metadata": {},
   "outputs": [],
   "source": [
    "#import data\n",
    "with np.load('features_mobilenet_v2.npz', allow_pickle=False) as npz_file:\n",
    "    #features\n",
    "    X_train = npz_file['train_hl']\n",
    "    X_val = npz_file['validation_hl']\n",
    "    X_test = npz_file['test_hl']\n",
    "    #labels\n",
    "    y_train = npz_file['labels_train']\n",
    "    y_val = npz_file['labels_validation']\n",
    "    y_test = npz_file['labels_test']"
   ]
  },
  {
   "cell_type": "code",
   "execution_count": 3,
   "id": "7ed7aa89",
   "metadata": {},
   "outputs": [],
   "source": [
    "#here I convert the data ad pd.DataFrame to ease the manipulation and visualization with graphviz\n",
    "X_train = pd.DataFrame(X_train)\n",
    "X_test = pd.DataFrame(X_test)\n",
    "y_train = pd.DataFrame(y_train)\n",
    "y_test = pd.DataFrame(y_test)"
   ]
  },
  {
   "cell_type": "markdown",
   "id": "df4d85d0",
   "metadata": {},
   "source": [
    "________________\n",
    "><h5><b>4.1. Fit and tune the model</b></h5>\n",
    "\n",
    "_____________"
   ]
  },
  {
   "cell_type": "code",
   "execution_count": 4,
   "id": "c474beb0",
   "metadata": {},
   "outputs": [
    {
     "name": "stdout",
     "output_type": "stream",
     "text": [
      "accuracy test tree (depth: 3) = 0.68%\n"
     ]
    }
   ],
   "source": [
    "from sklearn.tree import DecisionTreeClassifier\n",
    "\n",
    "# Create decision tree\n",
    "tree = DecisionTreeClassifier(criterion='gini', max_depth=3, random_state=0)\n",
    "\n",
    "# Fit decision tree\n",
    "tree.fit(X_train, y_train)\n",
    "\n",
    "# Get score\n",
    "accuracy_tree_test_d3 = tree.score(X_test, y_test)\n",
    "print('accuracy test tree (depth: 3) = {:.2f}%'.format(accuracy_tree_test_d3))"
   ]
  },
  {
   "cell_type": "code",
   "execution_count": 5,
   "id": "9960528a",
   "metadata": {},
   "outputs": [],
   "source": [
    "from sklearn.tree import export_graphviz\n",
    "import graphviz\n",
    "\n",
    "# Export decision tree\n",
    "tree_graph = export_graphviz(\n",
    "    tree, out_file=None,\n",
    "    feature_names=X_test.columns, class_names=['bike', 'car', 'motorcycle', 'other', 'truck', 'van'],\n",
    "    filled=True, rounded=True, proportion=True)"
   ]
  },
  {
   "cell_type": "code",
   "execution_count": 6,
   "id": "b8086bc2",
   "metadata": {},
   "outputs": [
    {
     "data": {
      "text/plain": [
       "'Source.gv.pdf'"
      ]
     },
     "execution_count": 6,
     "metadata": {},
     "output_type": "execute_result"
    }
   ],
   "source": [
    "#the graph is visualized in a new window as pdf (the graph is too large to be clearly visualized in jupyter)\n",
    "graph = graphviz.Source(tree_graph) \n",
    "graph.render(view=True)"
   ]
  },
  {
   "cell_type": "markdown",
   "id": "a1692de1",
   "metadata": {},
   "source": [
    "_____________________\n",
    "><h5><b>4.2. Dimensionality reduction (PCA)</b></h5>\n",
    "\n",
    "___________________"
   ]
  },
  {
   "cell_type": "code",
   "execution_count": 7,
   "id": "202c5f05",
   "metadata": {},
   "outputs": [
    {
     "name": "stdout",
     "output_type": "stream",
     "text": [
      "accuracy test tree (PCA, n_components=2) = 0.84%\n"
     ]
    }
   ],
   "source": [
    "# fits PCA, transforms data and fits the decision tree classifier\n",
    "pipe = Pipeline([('pca', PCA(n_components=2)),#I decided to use only 2 components (those which explain more variance)\n",
    "                 ('tree', DecisionTreeClassifier(criterion='gini', max_depth=3, random_state=0))])\n",
    "\n",
    "#fit\n",
    "pipe.fit(X_train, y_train)\n",
    "\n",
    "#get score\n",
    "accuracy_tree_test_pca = pipe.score(X_test, y_test)\n",
    "print('accuracy test tree (PCA, n_components=2) = {:.2f}%'.format(accuracy_tree_test_pca))"
   ]
  },
  {
   "cell_type": "code",
   "execution_count": 8,
   "id": "cabfaf1b",
   "metadata": {},
   "outputs": [
    {
     "data": {
      "image/png": "[encoded data removed]",
      "text/plain": [
       "<Figure size 432x288 with 1 Axes>"
      ]
     },
     "metadata": {
      "needs_background": "light"
     },
     "output_type": "display_data"
    }
   ],
   "source": [
    "#plot accuracies comparison (with and without PCA)\n",
    "plot_acc_tree = {'accuracy': [accuracy_tree_test_d3, accuracy_tree_test_pca],\n",
    "                  'tree': ['No PCA','PCA (2 components)']}\n",
    "plot_acc_tree = pd.DataFrame(plot_acc_tree)\n",
    "\n",
    "#plot\n",
    "sns.barplot(x='tree', y='accuracy',data=plot_acc_tree).set(xlabel=None)\n",
    "plt.title(\"Trees comparison\", size=18);"
   ]
  },
  {
   "cell_type": "markdown",
   "id": "88971f50",
   "metadata": {},
   "source": [
    "The accuracy improves when only the 2 most relevant features are retained compared to the whole dataset."
   ]
  },
  {
   "cell_type": "code",
   "execution_count": 9,
   "id": "f95fc510",
   "metadata": {},
   "outputs": [],
   "source": [
    "#append accuracy to models_summary.csv\n",
    "models_summary = {'model': ['decision tree'],\n",
    "                  'test_accuracy': [accuracy_tree_test_pca]}\n",
    "models_summary = pd.DataFrame(models_summary)\n",
    "\n",
    "models_summary.to_csv(\"models_summary.csv\", mode='a', index=False, header=False)#append to models_summary"
   ]
  }
 ],
 "metadata": {
  "kernelspec": {
   "display_name": "Python 3",
   "language": "python",
   "name": "python3"
  },
  "language_info": {
   "codemirror_mode": {
    "name": "ipython",
    "version": 3
   },
   "file_extension": ".py",
   "mimetype": "text/x-python",
   "name": "python",
   "nbconvert_exporter": "python",
   "pygments_lexer": "ipython3",
   "version": "3.6.11"
  }
 },
 "nbformat": 4,
 "nbformat_minor": 5
}
