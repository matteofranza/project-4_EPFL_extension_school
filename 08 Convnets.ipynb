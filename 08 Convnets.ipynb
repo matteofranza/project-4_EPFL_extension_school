{
 "cells": [
  {
   "cell_type": "markdown",
   "id": "2f12fab3",
   "metadata": {},
   "source": [
    "_____________________\n",
    "<h3><b>8. Convolutional neural network</b></h3>\n",
    "\n",
    "___________________"
   ]
  },
  {
   "cell_type": "code",
   "execution_count": 1,
   "id": "449b8d20",
   "metadata": {},
   "outputs": [],
   "source": [
    "#import libraries\n",
    "import numpy as np\n",
    "import pandas as pd\n",
    "import os\n",
    "import matplotlib.pyplot as plt\n",
    "import matplotlib.image as mpimg\n",
    "%matplotlib inline\n",
    "import seaborn as sns\n",
    "import tensorflow as tf #tf version is 1.12\n",
    "from tensorflow.keras.preprocessing.image import ImageDataGenerator\n",
    "from sklearn.preprocessing import StandardScaler\n",
    "from sklearn.pipeline import Pipeline\n",
    "from sklearn.pipeline import make_pipeline\n",
    "from tensorflow.keras import Sequential\n",
    "from tensorflow.keras.layers import Dense, Dropout, Flatten\n",
    "import tensorflow.keras as keras\n",
    "from tensorflow.keras import initializers\n",
    "from tensorflow.keras import regularizers"
   ]
  },
  {
   "cell_type": "markdown",
   "id": "1a5a8247",
   "metadata": {},
   "source": [
    "Here I don't use the extracted high-level features but a ConvNet created from scratch and using the pixel values from the original images."
   ]
  },
  {
   "cell_type": "markdown",
   "id": "a2a6b931",
   "metadata": {},
   "source": [
    "I will use generators to create my model. Different from the initial preprocessing, here I will use data augmentation attempting to hopefully obtain good results and avoid overfitting."
   ]
  },
  {
   "cell_type": "code",
   "execution_count": 2,
   "id": "8b9dc3ec",
   "metadata": {},
   "outputs": [],
   "source": [
    "#create generators\n",
    "#train\n",
    "generator_cnn = ImageDataGenerator(rescale=1/255, \n",
    "                                   dtype=np.float32,\n",
    "                                   width_shift_range=0.2, #randomly translate pictures vertically or horizontally (0.2=fraction of the total image)\n",
    "                                   height_shift_range=0.2, \n",
    "                                   shear_range=0.2, #displaces each point in a fixed direction\n",
    "                                   rotation_range=90, #range within which to randomly rotate pictures\n",
    "                                   zoom_range=0.2, #zoom in \n",
    "                                   horizontal_flip=True,\n",
    "                                   fill_mode='nearest') #how to fill the newly created pixels\n",
    "#valid/test\n",
    "generator_val_test = ImageDataGenerator(rescale=1/255, dtype=np.float32)"
   ]
  },
  {
   "cell_type": "code",
   "execution_count": 3,
   "id": "da182d23",
   "metadata": {},
   "outputs": [
    {
     "name": "stdout",
     "output_type": "stream",
     "text": [
      "Found 280 images belonging to 6 classes.\n",
      "Found 139 images belonging to 6 classes.\n",
      "Found 50 images belonging to 6 classes.\n"
     ]
    }
   ],
   "source": [
    "#apply generator to train, valid and test data\n",
    "trainset = generator_cnn.flow_from_directory(\n",
    "    os.path.join('train'), batch_size=32, target_size=(256, 256), color_mode='rgb',\n",
    "    interpolation='bilinear',#bilinear is the default but better to outline it\n",
    "    shuffle = True)\n",
    "\n",
    "validset = generator_val_test.flow_from_directory(\n",
    "    os.path.join('valid'), batch_size=32, target_size=(256, 256), color_mode='rgb',\n",
    "    interpolation='bilinear',#bilinear is the default but better to outline it\n",
    "    shuffle = False)\n",
    "\n",
    "testset = generator_val_test.flow_from_directory(\n",
    "    os.path.join('test'), batch_size=32, target_size=(256, 256), color_mode='rgb',\n",
    "    interpolation='bilinear',#bilinear is the default but better to outline it\n",
    "    shuffle = False)"
   ]
  },
  {
   "cell_type": "code",
   "execution_count": 4,
   "id": "6e358aa6",
   "metadata": {},
   "outputs": [
    {
     "name": "stdout",
     "output_type": "stream",
     "text": [
      "_________________________________________________________________\n",
      "Layer (type)                 Output Shape              Param #   \n",
      "=================================================================\n",
      "conv2d (Conv2D)              (None, 256, 256, 64)      4864      \n",
      "_________________________________________________________________\n",
      "max_pooling2d (MaxPooling2D) (None, 128, 128, 64)      0         \n",
      "_________________________________________________________________\n",
      "conv2d_1 (Conv2D)            (None, 128, 128, 64)      102464    \n",
      "_________________________________________________________________\n",
      "max_pooling2d_1 (MaxPooling2 (None, 64, 64, 64)        0         \n",
      "_________________________________________________________________\n",
      "conv2d_2 (Conv2D)            (None, 64, 64, 64)        36928     \n",
      "_________________________________________________________________\n",
      "max_pooling2d_2 (MaxPooling2 (None, 32, 32, 64)        0         \n",
      "_________________________________________________________________\n",
      "conv2d_3 (Conv2D)            (None, 30, 30, 64)        36928     \n",
      "_________________________________________________________________\n",
      "max_pooling2d_3 (MaxPooling2 (None, 15, 15, 64)        0         \n",
      "_________________________________________________________________\n",
      "flatten (Flatten)            (None, 14400)             0         \n",
      "_________________________________________________________________\n",
      "dense (Dense)                (None, 6)                 86406     \n",
      "=================================================================\n",
      "Total params: 267,590\n",
      "Trainable params: 267,590\n",
      "Non-trainable params: 0\n",
      "_________________________________________________________________\n"
     ]
    }
   ],
   "source": [
    "#define the network\n",
    "import tensorflow.keras as keras\n",
    "\n",
    "# Convolutional Network\n",
    "model_cnn = keras.Sequential()\n",
    "model_cnn.add(keras.layers.Conv2D(filters=64, kernel_size=5, strides=1, padding='same', #same = zero padding \n",
    "                                  activation='relu', input_shape=(256, 256, 3)))\n",
    "model_cnn.add(keras.layers.MaxPool2D(pool_size=2))\n",
    "model_cnn.add(keras.layers.Conv2D(filters=64, kernel_size=5, strides=1, padding='same', #same = zero padding \n",
    "                                  kernel_regularizer=regularizers.l2(0.01),\n",
    "                                  activation='relu'))\n",
    "#model.add(Dense(32, activation='relu'))\n",
    "model_cnn.add(keras.layers.MaxPool2D(pool_size=2))\n",
    "model_cnn.add(keras.layers.Conv2D(filters=64, kernel_size=3, strides=1, padding='same',\n",
    "                                  activation='relu'))\n",
    "model_cnn.add(keras.layers.MaxPool2D(pool_size=2))\n",
    "model_cnn.add(keras.layers.Conv2D(filters=64, kernel_size=3, strides=1,\n",
    "                                  activation='relu'))\n",
    "model_cnn.add(keras.layers.MaxPool2D(pool_size=2))\n",
    "model_cnn.add(keras.layers.Flatten())\n",
    "model_cnn.add(keras.layers.Dense(units=trainset.num_classes, activation='softmax'))\n",
    "\n",
    "#print model\n",
    "model_cnn.summary()"
   ]
  },
  {
   "cell_type": "code",
   "execution_count": 5,
   "id": "7fe86ba6",
   "metadata": {},
   "outputs": [],
   "source": [
    "# create an early_stopping callback to stop the training once the loss doesn't improve for 10 epochs\n",
    "early_stopping = keras.callbacks.EarlyStopping(monitor='val_loss', patience=10)"
   ]
  },
  {
   "cell_type": "code",
   "execution_count": 6,
   "id": "1043cb3b",
   "metadata": {},
   "outputs": [],
   "source": [
    "#compile the model\n",
    "model_cnn.compile(optimizer=keras.optimizers.Adam(),\n",
    "                  loss='categorical_crossentropy',\n",
    "                  metrics=['acc'])"
   ]
  },
  {
   "cell_type": "code",
   "execution_count": 7,
   "id": "1e8ae71c",
   "metadata": {},
   "outputs": [],
   "source": [
    "#train the model\n",
    "history_cnn = model_cnn.fit_generator(generator=trainset,\n",
    "                                      validation_data=validset,\n",
    "                                      callbacks=[early_stopping],\n",
    "                                      verbose=0,#turn off the epochs printing to not overload the notebook\n",
    "                                      epochs=100)\n",
    "#note: the results change over each run unless PYTHONHASHSEED and all the modules seeds are specified and here are NOT."
   ]
  },
  {
   "cell_type": "code",
   "execution_count": 8,
   "id": "acb495d5",
   "metadata": {},
   "outputs": [
    {
     "data": {
      "image/png": "[encoded data removed]",
      "text/plain": [
       "<Figure size 864x288 with 2 Axes>"
      ]
     },
     "metadata": {
      "needs_background": "light"
     },
     "output_type": "display_data"
    }
   ],
   "source": [
    "#plot training curves\n",
    "fig, (ax1, ax2) = plt.subplots(nrows=1, ncols=2, figsize=(12, 4))\n",
    "\n",
    "# Plot loss values\n",
    "ax1.set_title('loss: {:.4f}'.format(history_cnn.history['val_loss'][-1]))\n",
    "ax1.plot(history_cnn.history['val_loss'], label='validation')\n",
    "ax1.plot(history_cnn.history['loss'], label='training')\n",
    "ax1.legend()\n",
    "\n",
    "# plot accuracy values\n",
    "ax2.set_title('accuracy: {:.2f}%'.format(history_cnn.history['val_acc'][-1]*100))\n",
    "ax2.plot(history_cnn.history['val_acc'], label='validation')\n",
    "ax2.plot(history_cnn.history['acc'], label='training')\n",
    "ax2.legend()\n",
    "\n",
    "plt.show()"
   ]
  },
  {
   "cell_type": "code",
   "execution_count": 9,
   "id": "7b130dc3",
   "metadata": {},
   "outputs": [
    {
     "data": {
      "text/html": [
       "<style  type=\"text/css\" >\n",
       "    #T_b8d3f18c_b8bf_11eb_923e_14f6d827c9e0row0_col0 {\n",
       "            background-color:  #fde725;\n",
       "            color:  #000000;\n",
       "        }    #T_b8d3f18c_b8bf_11eb_923e_14f6d827c9e0row0_col1 {\n",
       "            background-color:  #440154;\n",
       "            color:  #f1f1f1;\n",
       "        }    #T_b8d3f18c_b8bf_11eb_923e_14f6d827c9e0row0_col2 {\n",
       "            background-color:  #482475;\n",
       "            color:  #f1f1f1;\n",
       "        }    #T_b8d3f18c_b8bf_11eb_923e_14f6d827c9e0row0_col3 {\n",
       "            background-color:  #440154;\n",
       "            color:  #f1f1f1;\n",
       "        }    #T_b8d3f18c_b8bf_11eb_923e_14f6d827c9e0row0_col4 {\n",
       "            background-color:  #482475;\n",
       "            color:  #f1f1f1;\n",
       "        }    #T_b8d3f18c_b8bf_11eb_923e_14f6d827c9e0row0_col5 {\n",
       "            background-color:  #440154;\n",
       "            color:  #f1f1f1;\n",
       "        }    #T_b8d3f18c_b8bf_11eb_923e_14f6d827c9e0row1_col0 {\n",
       "            background-color:  #365c8d;\n",
       "            color:  #f1f1f1;\n",
       "        }    #T_b8d3f18c_b8bf_11eb_923e_14f6d827c9e0row1_col1 {\n",
       "            background-color:  #fde725;\n",
       "            color:  #000000;\n",
       "        }    #T_b8d3f18c_b8bf_11eb_923e_14f6d827c9e0row1_col2 {\n",
       "            background-color:  #46327e;\n",
       "            color:  #f1f1f1;\n",
       "        }    #T_b8d3f18c_b8bf_11eb_923e_14f6d827c9e0row1_col3 {\n",
       "            background-color:  #440154;\n",
       "            color:  #f1f1f1;\n",
       "        }    #T_b8d3f18c_b8bf_11eb_923e_14f6d827c9e0row1_col4 {\n",
       "            background-color:  #46327e;\n",
       "            color:  #f1f1f1;\n",
       "        }    #T_b8d3f18c_b8bf_11eb_923e_14f6d827c9e0row1_col5 {\n",
       "            background-color:  #440154;\n",
       "            color:  #f1f1f1;\n",
       "        }    #T_b8d3f18c_b8bf_11eb_923e_14f6d827c9e0row2_col0 {\n",
       "            background-color:  #22a884;\n",
       "            color:  #000000;\n",
       "        }    #T_b8d3f18c_b8bf_11eb_923e_14f6d827c9e0row2_col1 {\n",
       "            background-color:  #fde725;\n",
       "            color:  #000000;\n",
       "        }    #T_b8d3f18c_b8bf_11eb_923e_14f6d827c9e0row2_col2 {\n",
       "            background-color:  #414487;\n",
       "            color:  #f1f1f1;\n",
       "        }    #T_b8d3f18c_b8bf_11eb_923e_14f6d827c9e0row2_col3 {\n",
       "            background-color:  #440154;\n",
       "            color:  #f1f1f1;\n",
       "        }    #T_b8d3f18c_b8bf_11eb_923e_14f6d827c9e0row2_col4 {\n",
       "            background-color:  #440154;\n",
       "            color:  #f1f1f1;\n",
       "        }    #T_b8d3f18c_b8bf_11eb_923e_14f6d827c9e0row2_col5 {\n",
       "            background-color:  #440154;\n",
       "            color:  #f1f1f1;\n",
       "        }    #T_b8d3f18c_b8bf_11eb_923e_14f6d827c9e0row3_col0 {\n",
       "            background-color:  #35b779;\n",
       "            color:  #000000;\n",
       "        }    #T_b8d3f18c_b8bf_11eb_923e_14f6d827c9e0row3_col1 {\n",
       "            background-color:  #31688e;\n",
       "            color:  #f1f1f1;\n",
       "        }    #T_b8d3f18c_b8bf_11eb_923e_14f6d827c9e0row3_col2 {\n",
       "            background-color:  #440154;\n",
       "            color:  #f1f1f1;\n",
       "        }    #T_b8d3f18c_b8bf_11eb_923e_14f6d827c9e0row3_col3 {\n",
       "            background-color:  #440154;\n",
       "            color:  #f1f1f1;\n",
       "        }    #T_b8d3f18c_b8bf_11eb_923e_14f6d827c9e0row3_col4 {\n",
       "            background-color:  #fde725;\n",
       "            color:  #000000;\n",
       "        }    #T_b8d3f18c_b8bf_11eb_923e_14f6d827c9e0row3_col5 {\n",
       "            background-color:  #440154;\n",
       "            color:  #f1f1f1;\n",
       "        }    #T_b8d3f18c_b8bf_11eb_923e_14f6d827c9e0row4_col0 {\n",
       "            background-color:  #21918c;\n",
       "            color:  #000000;\n",
       "        }    #T_b8d3f18c_b8bf_11eb_923e_14f6d827c9e0row4_col1 {\n",
       "            background-color:  #3b528b;\n",
       "            color:  #f1f1f1;\n",
       "        }    #T_b8d3f18c_b8bf_11eb_923e_14f6d827c9e0row4_col2 {\n",
       "            background-color:  #440154;\n",
       "            color:  #f1f1f1;\n",
       "        }    #T_b8d3f18c_b8bf_11eb_923e_14f6d827c9e0row4_col3 {\n",
       "            background-color:  #440154;\n",
       "            color:  #f1f1f1;\n",
       "        }    #T_b8d3f18c_b8bf_11eb_923e_14f6d827c9e0row4_col4 {\n",
       "            background-color:  #fde725;\n",
       "            color:  #000000;\n",
       "        }    #T_b8d3f18c_b8bf_11eb_923e_14f6d827c9e0row4_col5 {\n",
       "            background-color:  #440154;\n",
       "            color:  #f1f1f1;\n",
       "        }    #T_b8d3f18c_b8bf_11eb_923e_14f6d827c9e0row5_col0 {\n",
       "            background-color:  #31688e;\n",
       "            color:  #f1f1f1;\n",
       "        }    #T_b8d3f18c_b8bf_11eb_923e_14f6d827c9e0row5_col1 {\n",
       "            background-color:  #fde725;\n",
       "            color:  #000000;\n",
       "        }    #T_b8d3f18c_b8bf_11eb_923e_14f6d827c9e0row5_col2 {\n",
       "            background-color:  #440154;\n",
       "            color:  #f1f1f1;\n",
       "        }    #T_b8d3f18c_b8bf_11eb_923e_14f6d827c9e0row5_col3 {\n",
       "            background-color:  #440154;\n",
       "            color:  #f1f1f1;\n",
       "        }    #T_b8d3f18c_b8bf_11eb_923e_14f6d827c9e0row5_col4 {\n",
       "            background-color:  #31688e;\n",
       "            color:  #f1f1f1;\n",
       "        }    #T_b8d3f18c_b8bf_11eb_923e_14f6d827c9e0row5_col5 {\n",
       "            background-color:  #440154;\n",
       "            color:  #f1f1f1;\n",
       "        }</style><table id=\"T_b8d3f18c_b8bf_11eb_923e_14f6d827c9e0\" ><thead>    <tr>        <th class=\"index_name level0\" >Predictions</th>        <th class=\"col_heading level0 col0\" >bike</th>        <th class=\"col_heading level0 col1\" >car</th>        <th class=\"col_heading level0 col2\" >motorcycle</th>        <th class=\"col_heading level0 col3\" >other</th>        <th class=\"col_heading level0 col4\" >truck</th>        <th class=\"col_heading level0 col5\" >van</th>    </tr>    <tr>        <th class=\"index_name level0\" >True class</th>        <th class=\"blank\" ></th>        <th class=\"blank\" ></th>        <th class=\"blank\" ></th>        <th class=\"blank\" ></th>        <th class=\"blank\" ></th>        <th class=\"blank\" ></th>    </tr></thead><tbody>\n",
       "                <tr>\n",
       "                        <th id=\"T_b8d3f18c_b8bf_11eb_923e_14f6d827c9e0level0_row0\" class=\"row_heading level0 row0\" >bike</th>\n",
       "                        <td id=\"T_b8d3f18c_b8bf_11eb_923e_14f6d827c9e0row0_col0\" class=\"data row0 col0\" >10</td>\n",
       "                        <td id=\"T_b8d3f18c_b8bf_11eb_923e_14f6d827c9e0row0_col1\" class=\"data row0 col1\" >0</td>\n",
       "                        <td id=\"T_b8d3f18c_b8bf_11eb_923e_14f6d827c9e0row0_col2\" class=\"data row0 col2\" >1</td>\n",
       "                        <td id=\"T_b8d3f18c_b8bf_11eb_923e_14f6d827c9e0row0_col3\" class=\"data row0 col3\" >0</td>\n",
       "                        <td id=\"T_b8d3f18c_b8bf_11eb_923e_14f6d827c9e0row0_col4\" class=\"data row0 col4\" >1</td>\n",
       "                        <td id=\"T_b8d3f18c_b8bf_11eb_923e_14f6d827c9e0row0_col5\" class=\"data row0 col5\" >0</td>\n",
       "            </tr>\n",
       "            <tr>\n",
       "                        <th id=\"T_b8d3f18c_b8bf_11eb_923e_14f6d827c9e0level0_row1\" class=\"row_heading level0 row1\" >car</th>\n",
       "                        <td id=\"T_b8d3f18c_b8bf_11eb_923e_14f6d827c9e0row1_col0\" class=\"data row1 col0\" >2</td>\n",
       "                        <td id=\"T_b8d3f18c_b8bf_11eb_923e_14f6d827c9e0row1_col1\" class=\"data row1 col1\" >7</td>\n",
       "                        <td id=\"T_b8d3f18c_b8bf_11eb_923e_14f6d827c9e0row1_col2\" class=\"data row1 col2\" >1</td>\n",
       "                        <td id=\"T_b8d3f18c_b8bf_11eb_923e_14f6d827c9e0row1_col3\" class=\"data row1 col3\" >0</td>\n",
       "                        <td id=\"T_b8d3f18c_b8bf_11eb_923e_14f6d827c9e0row1_col4\" class=\"data row1 col4\" >1</td>\n",
       "                        <td id=\"T_b8d3f18c_b8bf_11eb_923e_14f6d827c9e0row1_col5\" class=\"data row1 col5\" >0</td>\n",
       "            </tr>\n",
       "            <tr>\n",
       "                        <th id=\"T_b8d3f18c_b8bf_11eb_923e_14f6d827c9e0level0_row2\" class=\"row_heading level0 row2\" >motorcycle</th>\n",
       "                        <td id=\"T_b8d3f18c_b8bf_11eb_923e_14f6d827c9e0row2_col0\" class=\"data row2 col0\" >3</td>\n",
       "                        <td id=\"T_b8d3f18c_b8bf_11eb_923e_14f6d827c9e0row2_col1\" class=\"data row2 col1\" >5</td>\n",
       "                        <td id=\"T_b8d3f18c_b8bf_11eb_923e_14f6d827c9e0row2_col2\" class=\"data row2 col2\" >1</td>\n",
       "                        <td id=\"T_b8d3f18c_b8bf_11eb_923e_14f6d827c9e0row2_col3\" class=\"data row2 col3\" >0</td>\n",
       "                        <td id=\"T_b8d3f18c_b8bf_11eb_923e_14f6d827c9e0row2_col4\" class=\"data row2 col4\" >0</td>\n",
       "                        <td id=\"T_b8d3f18c_b8bf_11eb_923e_14f6d827c9e0row2_col5\" class=\"data row2 col5\" >0</td>\n",
       "            </tr>\n",
       "            <tr>\n",
       "                        <th id=\"T_b8d3f18c_b8bf_11eb_923e_14f6d827c9e0level0_row3\" class=\"row_heading level0 row3\" >other</th>\n",
       "                        <td id=\"T_b8d3f18c_b8bf_11eb_923e_14f6d827c9e0row3_col0\" class=\"data row3 col0\" >2</td>\n",
       "                        <td id=\"T_b8d3f18c_b8bf_11eb_923e_14f6d827c9e0row3_col1\" class=\"data row3 col1\" >1</td>\n",
       "                        <td id=\"T_b8d3f18c_b8bf_11eb_923e_14f6d827c9e0row3_col2\" class=\"data row3 col2\" >0</td>\n",
       "                        <td id=\"T_b8d3f18c_b8bf_11eb_923e_14f6d827c9e0row3_col3\" class=\"data row3 col3\" >0</td>\n",
       "                        <td id=\"T_b8d3f18c_b8bf_11eb_923e_14f6d827c9e0row3_col4\" class=\"data row3 col4\" >3</td>\n",
       "                        <td id=\"T_b8d3f18c_b8bf_11eb_923e_14f6d827c9e0row3_col5\" class=\"data row3 col5\" >0</td>\n",
       "            </tr>\n",
       "            <tr>\n",
       "                        <th id=\"T_b8d3f18c_b8bf_11eb_923e_14f6d827c9e0level0_row4\" class=\"row_heading level0 row4\" >truck</th>\n",
       "                        <td id=\"T_b8d3f18c_b8bf_11eb_923e_14f6d827c9e0row4_col0\" class=\"data row4 col0\" >2</td>\n",
       "                        <td id=\"T_b8d3f18c_b8bf_11eb_923e_14f6d827c9e0row4_col1\" class=\"data row4 col1\" >1</td>\n",
       "                        <td id=\"T_b8d3f18c_b8bf_11eb_923e_14f6d827c9e0row4_col2\" class=\"data row4 col2\" >0</td>\n",
       "                        <td id=\"T_b8d3f18c_b8bf_11eb_923e_14f6d827c9e0row4_col3\" class=\"data row4 col3\" >0</td>\n",
       "                        <td id=\"T_b8d3f18c_b8bf_11eb_923e_14f6d827c9e0row4_col4\" class=\"data row4 col4\" >4</td>\n",
       "                        <td id=\"T_b8d3f18c_b8bf_11eb_923e_14f6d827c9e0row4_col5\" class=\"data row4 col5\" >0</td>\n",
       "            </tr>\n",
       "            <tr>\n",
       "                        <th id=\"T_b8d3f18c_b8bf_11eb_923e_14f6d827c9e0level0_row5\" class=\"row_heading level0 row5\" >van</th>\n",
       "                        <td id=\"T_b8d3f18c_b8bf_11eb_923e_14f6d827c9e0row5_col0\" class=\"data row5 col0\" >1</td>\n",
       "                        <td id=\"T_b8d3f18c_b8bf_11eb_923e_14f6d827c9e0row5_col1\" class=\"data row5 col1\" >3</td>\n",
       "                        <td id=\"T_b8d3f18c_b8bf_11eb_923e_14f6d827c9e0row5_col2\" class=\"data row5 col2\" >0</td>\n",
       "                        <td id=\"T_b8d3f18c_b8bf_11eb_923e_14f6d827c9e0row5_col3\" class=\"data row5 col3\" >0</td>\n",
       "                        <td id=\"T_b8d3f18c_b8bf_11eb_923e_14f6d827c9e0row5_col4\" class=\"data row5 col4\" >1</td>\n",
       "                        <td id=\"T_b8d3f18c_b8bf_11eb_923e_14f6d827c9e0row5_col5\" class=\"data row5 col5\" >0</td>\n",
       "            </tr>\n",
       "    </tbody></table>"
      ],
      "text/plain": [
       "<pandas.io.formats.style.Styler at 0x17a316c81d0>"
      ]
     },
     "execution_count": 9,
     "metadata": {},
     "output_type": "execute_result"
    }
   ],
   "source": [
    "#test predictions\n",
    "test_preds_cnn = model_cnn.predict_generator(testset)#return an array (50,6)\n",
    "\n",
    "#confusion matrix\n",
    "from sklearn.metrics import confusion_matrix\n",
    "\n",
    "# Compute confusion matrix\n",
    "matrix = confusion_matrix(\n",
    "    y_true=testset.classes, # array with true labels\n",
    "    y_pred=test_preds_cnn.argmax(axis=1) # array with predicted labels\n",
    ")\n",
    "\n",
    "# Format as a DataFrame\n",
    "class_names = list(testset.class_indices.keys())\n",
    "matrix_df = pd.DataFrame(data=matrix, columns=class_names, index=class_names)\n",
    "matrix_df.columns.name = 'Predictions'\n",
    "matrix_df.index.name = 'True class'\n",
    "\n",
    "#display the df as heatmap to ease the visualization\n",
    "matrix_df.style.background_gradient(cmap ='viridis', axis=1)"
   ]
  },
  {
   "cell_type": "code",
   "execution_count": 10,
   "id": "cc129cb0",
   "metadata": {},
   "outputs": [
    {
     "name": "stdout",
     "output_type": "stream",
     "text": [
      "Test loss: 1.47\n",
      "accuracy CNN: 0.44%\n"
     ]
    }
   ],
   "source": [
    "#evaluate on test data\n",
    "test_loss, test_acurracy_cnn = model_cnn.evaluate_generator(testset)\n",
    "print('Test loss: {:.2f}'.format(test_loss))\n",
    "print('accuracy CNN: {:.2f}%'.format(test_acurracy_cnn))"
   ]
  },
  {
   "cell_type": "markdown",
   "id": "937e56c4",
   "metadata": {},
   "source": [
    "I cannot achieve good results (the accuracy suggests that the images are classified at the chance). After trying different combinations of parameters (not reported here) I believe that despite everything, the amount of data is insufficient to properly train a model with good accuracy (around 70%). Furthermore, the classes are quite imbalanced."
   ]
  },
  {
   "cell_type": "code",
   "execution_count": 11,
   "id": "e7e58af6",
   "metadata": {},
   "outputs": [],
   "source": [
    "#store the accuracy in a df\n",
    "\n",
    "models_summary = {'model': ['cnn'],\n",
    "                  'test_accuracy': [test_acurracy_cnn]}\n",
    "models_summary = pd.DataFrame(models_summary)\n",
    "models_summary.to_csv(\"models_summary.csv\", mode='a', index=False, header=False)#append to models_summary"
   ]
  }
 ],
 "metadata": {
  "kernelspec": {
   "display_name": "Python 3",
   "language": "python",
   "name": "python3"
  },
  "language_info": {
   "codemirror_mode": {
    "name": "ipython",
    "version": 3
   },
   "file_extension": ".py",
   "mimetype": "text/x-python",
   "name": "python",
   "nbconvert_exporter": "python",
   "pygments_lexer": "ipython3",
   "version": "3.6.11"
  }
 },
 "nbformat": 4,
 "nbformat_minor": 5
}
