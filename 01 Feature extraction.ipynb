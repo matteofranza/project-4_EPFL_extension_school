{
 "cells": [
  {
   "cell_type": "markdown",
   "id": "ccb86187",
   "metadata": {},
   "source": [
    "____________________\n",
    "<h3><b>1. Feature extraction</b></h3>\n",
    "\n",
    "____________________"
   ]
  },
  {
   "cell_type": "code",
   "execution_count": 1,
   "id": "2e300257",
   "metadata": {},
   "outputs": [
    {
     "name": "stderr",
     "output_type": "stream",
     "text": [
      "WARNING:absl:Some hub symbols are not available because TensorFlow version is less than 1.14\n"
     ]
    }
   ],
   "source": [
    "#import libraries\n",
    "import numpy as np\n",
    "import pandas as pd\n",
    "import os\n",
    "import matplotlib.pyplot as plt\n",
    "import matplotlib.image as mpimg\n",
    "%matplotlib inline\n",
    "import seaborn as sns\n",
    "\n",
    "#machine learning (sklearn, tensorflow, keras)\n",
    "from tensorflow.keras.preprocessing.image import ImageDataGenerator\n",
    "import tensorflow as tf #tf version is 1.12\n",
    "import tensorflow_hub as hub #hub version is 0.4.0"
   ]
  },
  {
   "cell_type": "markdown",
   "id": "8936ed15",
   "metadata": {},
   "source": [
    "_____________________\n",
    "><h5><b>1.2. Images preprocessing</b></h5>\n",
    "\n",
    "___________________"
   ]
  },
  {
   "cell_type": "markdown",
   "id": "8c680ba4",
   "metadata": {},
   "source": [
    "Here I extract the features directly from keras generators separately for train, validation and test set. The extracted features are then saved in npz files."
   ]
  },
  {
   "cell_type": "markdown",
   "id": "09aa0d6e",
   "metadata": {},
   "source": [
    "_____________\n",
    "> <b>Train</b>\n",
    "\n",
    "__________"
   ]
  },
  {
   "cell_type": "code",
   "execution_count": 2,
   "id": "0e1863ef",
   "metadata": {},
   "outputs": [],
   "source": [
    "from tensorflow.keras.preprocessing.image import ImageDataGenerator\n",
    "\n",
    "generator_extraction = ImageDataGenerator(rescale=1/255, dtype=np.float32)#since I will perform a feature extraction with a pretrained network I don't have a reason to add parameters for data augmentation\n",
    "#note:this 'generator_extraction' will be the same for validation and test set since there is no data augmentation"
   ]
  },
  {
   "cell_type": "code",
   "execution_count": 3,
   "id": "2407cc20",
   "metadata": {},
   "outputs": [
    {
     "name": "stdout",
     "output_type": "stream",
     "text": [
      "Found 280 images belonging to 6 classes.\n"
     ]
    }
   ],
   "source": [
    "trainset = generator_extraction.flow_from_directory(\n",
    "    os.path.join('train'), batch_size=280, target_size=(224, 224), color_mode='rgb', \n",
    "    interpolation='bilinear',#bilinear is the default but better to outline it\n",
    "    shuffle = False)"
   ]
  },
  {
   "cell_type": "code",
   "execution_count": 4,
   "id": "57800ce4",
   "metadata": {},
   "outputs": [
    {
     "name": "stdout",
     "output_type": "stream",
     "text": [
      "Batch images train: (280, 224, 224, 3)\n",
      "Batch labels train: (280, 6)\n"
     ]
    }
   ],
   "source": [
    "batch_imgs_train, batch_labels_train = trainset.next()#this will be usefull later to plot the images\n",
    "print('Batch images train:', batch_imgs_train.shape) \n",
    "print('Batch labels train:', batch_labels_train.shape)"
   ]
  },
  {
   "cell_type": "code",
   "execution_count": 5,
   "id": "2987f601",
   "metadata": {},
   "outputs": [],
   "source": [
    "#create a dataframe to summarize the train data    \n",
    "num = trainset.classes\n",
    "num = np.bincount(num)\n",
    "\n",
    "classes = trainset.class_indices\n",
    "train_raw_df = pd.DataFrame(list(classes.items()),columns = ['classes', 'null']) \n",
    "train_raw_df.drop('null', axis=1, inplace = True)#this removes an extra column\n",
    "train_raw_df['images_in_class'] = num"
   ]
  },
  {
   "cell_type": "code",
   "execution_count": 6,
   "id": "736ab69c",
   "metadata": {},
   "outputs": [
    {
     "name": "stdout",
     "output_type": "stream",
     "text": [
      "total images sum: 280\n"
     ]
    },
    {
     "data": {
      "text/html": [
       "<div>\n",
       "<style scoped>\n",
       "    .dataframe tbody tr th:only-of-type {\n",
       "        vertical-align: middle;\n",
       "    }\n",
       "\n",
       "    .dataframe tbody tr th {\n",
       "        vertical-align: top;\n",
       "    }\n",
       "\n",
       "    .dataframe thead th {\n",
       "        text-align: right;\n",
       "    }\n",
       "</style>\n",
       "<table border=\"1\" class=\"dataframe\">\n",
       "  <thead>\n",
       "    <tr style=\"text-align: right;\">\n",
       "      <th></th>\n",
       "      <th>classes</th>\n",
       "      <th>images_in_class</th>\n",
       "    </tr>\n",
       "  </thead>\n",
       "  <tbody>\n",
       "    <tr>\n",
       "      <th>0</th>\n",
       "      <td>bike</td>\n",
       "      <td>66</td>\n",
       "    </tr>\n",
       "    <tr>\n",
       "      <th>1</th>\n",
       "      <td>car</td>\n",
       "      <td>64</td>\n",
       "    </tr>\n",
       "    <tr>\n",
       "      <th>2</th>\n",
       "      <td>motorcycle</td>\n",
       "      <td>51</td>\n",
       "    </tr>\n",
       "    <tr>\n",
       "      <th>3</th>\n",
       "      <td>other</td>\n",
       "      <td>32</td>\n",
       "    </tr>\n",
       "    <tr>\n",
       "      <th>4</th>\n",
       "      <td>truck</td>\n",
       "      <td>42</td>\n",
       "    </tr>\n",
       "    <tr>\n",
       "      <th>5</th>\n",
       "      <td>van</td>\n",
       "      <td>25</td>\n",
       "    </tr>\n",
       "  </tbody>\n",
       "</table>\n",
       "</div>"
      ],
      "text/plain": [
       "      classes  images_in_class\n",
       "0        bike               66\n",
       "1         car               64\n",
       "2  motorcycle               51\n",
       "3       other               32\n",
       "4       truck               42\n",
       "5         van               25"
      ]
     },
     "execution_count": 6,
     "metadata": {},
     "output_type": "execute_result"
    }
   ],
   "source": [
    "print('total images sum:', train_raw_df.images_in_class.sum())\n",
    "train_raw_df"
   ]
  },
  {
   "cell_type": "code",
   "execution_count": 7,
   "id": "d34fe65d",
   "metadata": {},
   "outputs": [
    {
     "data": {
      "image/png": "[encoded data removed]",
      "text/plain": [
       "<Figure size 432x288 with 1 Axes>"
      ]
     },
     "metadata": {
      "needs_background": "light"
     },
     "output_type": "display_data"
    }
   ],
   "source": [
    "#visualize the classes distribution in the train data\n",
    "plt.bar(train_raw_df.classes, train_raw_df.images_in_class)\n",
    "plt.xlabel('Classes', fontsize=20)\n",
    "plt.ylabel('Images number', fontsize=20);"
   ]
  },
  {
   "cell_type": "code",
   "execution_count": 8,
   "id": "7da12744",
   "metadata": {},
   "outputs": [
    {
     "name": "stdout",
     "output_type": "stream",
     "text": [
      "INFO:tensorflow:Saver not created because there are no variables in the graph to restore\n"
     ]
    },
    {
     "name": "stderr",
     "output_type": "stream",
     "text": [
      "INFO:tensorflow:Saver not created because there are no variables in the graph to restore\n"
     ]
    }
   ],
   "source": [
    "# Create graph\n",
    "img_graph = tf.Graph()\n",
    "\n",
    "with img_graph.as_default():\n",
    "    # Download module\n",
    "    module_url = 'https://tfhub.dev/google/imagenet/mobilenet_v2_100_224/feature_vector/2'\n",
    "    feature_extractor = hub.Module(module_url)\n",
    "\n",
    "    # Create input placeholder\n",
    "    input_imgs = tf.placeholder(dtype=tf.float32, shape=[None, 224, 224, 3])\n",
    "\n",
    "    # A node with the features\n",
    "    imgs_features = feature_extractor(input_imgs)\n",
    "\n",
    "    # Collect initializers\n",
    "    init_op = tf.group([\n",
    "        tf.global_variables_initializer(), tf.tables_initializer()\n",
    "    ])\n",
    "\n",
    "img_graph.finalize() #make the graph \"read-only\"\n",
    "\n",
    "#if the following error appears \n",
    "#RuntimeError: Missing implementation that supports: loader(*('C:\\\\Users\\\\matfr\\\\AppData\\\\Local\\\\Temp\\\\tfhub_modules\\\\adfe0cf8d843e3588bfb9602e32a718b12212904',), **{})\n",
    "#just delete the folder at the indicated path"
   ]
  },
  {
   "cell_type": "code",
   "execution_count": 9,
   "id": "172bc9c9",
   "metadata": {},
   "outputs": [
    {
     "data": {
      "text/plain": [
       "(280, 1280)"
      ]
     },
     "execution_count": 9,
     "metadata": {},
     "output_type": "execute_result"
    }
   ],
   "source": [
    "# Create a session\n",
    "sess = tf.Session(graph=img_graph)\n",
    "\n",
    "# Initialize it\n",
    "sess.run(init_op)\n",
    "\n",
    "# Extract features\n",
    "features_train = sess.run(imgs_features, feed_dict={input_imgs: batch_imgs_train})#ensure that the proper data are fed to the graph\n",
    "features_train.shape "
   ]
  },
  {
   "cell_type": "markdown",
   "id": "7bb9b998",
   "metadata": {},
   "source": [
    "_______________\n",
    "> <b>Validation</b>\n",
    "\n",
    "_________"
   ]
  },
  {
   "cell_type": "code",
   "execution_count": 10,
   "id": "d3fe6d18",
   "metadata": {},
   "outputs": [
    {
     "name": "stdout",
     "output_type": "stream",
     "text": [
      "Found 139 images belonging to 6 classes.\n"
     ]
    }
   ],
   "source": [
    "valset = generator_extraction.flow_from_directory(\n",
    "    os.path.join('valid'), batch_size=139, target_size=(224, 224), color_mode='rgb',\n",
    "    interpolation='bilinear',#bilinear is the default but better to outline it\n",
    "    shuffle = False)"
   ]
  },
  {
   "cell_type": "code",
   "execution_count": 11,
   "id": "684b4176",
   "metadata": {},
   "outputs": [
    {
     "name": "stdout",
     "output_type": "stream",
     "text": [
      "Batch images validation: (139, 224, 224, 3)\n",
      "Batch labels validation: (139, 6)\n"
     ]
    }
   ],
   "source": [
    "batch_imgs_val, batch_labels_val = valset.next()\n",
    "print('Batch images validation:', batch_imgs_val.shape) \n",
    "print('Batch labels validation:', batch_labels_val.shape)"
   ]
  },
  {
   "cell_type": "code",
   "execution_count": 12,
   "id": "e86830b7",
   "metadata": {},
   "outputs": [
    {
     "data": {
      "text/plain": [
       "(139, 1280)"
      ]
     },
     "execution_count": 12,
     "metadata": {},
     "output_type": "execute_result"
    }
   ],
   "source": [
    "# Create a session\n",
    "sess = tf.Session(graph=img_graph)\n",
    "\n",
    "# Initialize\n",
    "sess.run(init_op)\n",
    "\n",
    "# Extract features\n",
    "features_validation = sess.run(imgs_features, feed_dict={input_imgs: batch_imgs_val})#ensure that the proper data are fed to the graph\n",
    "features_validation.shape "
   ]
  },
  {
   "cell_type": "markdown",
   "id": "464f7cb8",
   "metadata": {},
   "source": [
    "____________\n",
    "> <b>Test</b>\n",
    "\n",
    "____________"
   ]
  },
  {
   "cell_type": "code",
   "execution_count": 13,
   "id": "81bbcf4c",
   "metadata": {},
   "outputs": [
    {
     "name": "stdout",
     "output_type": "stream",
     "text": [
      "Found 50 images belonging to 6 classes.\n"
     ]
    }
   ],
   "source": [
    "testset = generator_extraction.flow_from_directory(\n",
    "    os.path.join('test'), batch_size=50, target_size=(224, 224), color_mode='rgb',\n",
    "    interpolation='bilinear',#bilinear is the default but better to outline it\n",
    "    shuffle = False)"
   ]
  },
  {
   "cell_type": "code",
   "execution_count": 14,
   "id": "34031de5",
   "metadata": {},
   "outputs": [
    {
     "name": "stdout",
     "output_type": "stream",
     "text": [
      "Batch images test: (50, 224, 224, 3)\n",
      "Batch labels test: (50, 6)\n"
     ]
    }
   ],
   "source": [
    "batch_imgs_test, batch_labels_test = testset.next()\n",
    "print('Batch images test:', batch_imgs_test.shape) \n",
    "print('Batch labels test:', batch_labels_test.shape)"
   ]
  },
  {
   "cell_type": "code",
   "execution_count": 15,
   "id": "4652271c",
   "metadata": {},
   "outputs": [
    {
     "data": {
      "text/plain": [
       "(50, 1280)"
      ]
     },
     "execution_count": 15,
     "metadata": {},
     "output_type": "execute_result"
    }
   ],
   "source": [
    "# Create a session\n",
    "sess = tf.Session(graph=img_graph)\n",
    "\n",
    "# Initialize\n",
    "sess.run(init_op)\n",
    "\n",
    "# Extract features\n",
    "features_test = sess.run(imgs_features, feed_dict={input_imgs: batch_imgs_test})#ensure that the proper data are fed to the graph\n",
    "features_test.shape "
   ]
  },
  {
   "cell_type": "markdown",
   "id": "d762da05",
   "metadata": {},
   "source": [
    "_____________\n",
    "> <b>1.3. Save high-level features</b>\n",
    "\n",
    "___________"
   ]
  },
  {
   "cell_type": "markdown",
   "id": "3a366f3f",
   "metadata": {},
   "source": [
    "<br>Here I will save the the high-level features as npz files. Each npz file will contain different arrays:</br>\n",
    "- features (features_train, features_validation, features_test)\n",
    "- labels as integers (trainset.classes, valset.classes, testset.classes)\n",
    "- the original preprocessed images ready to be plotted (batch_imgs_train, batch_imgs_val, batch_imgs_test)\n",
    "- the images path name (train_imgs_path, validation_imgs_path, test_imgs_path)\n",
    "\n",
    "<br>important: there is not shuffling in the data meaning that there is have a 1:1 correspondence across data (e.g. [0] in features_train will correspond to -> trainset.classes[0] -> batch_imgs_train[0] -> train_imgs_path[0]).</br>\n",
    "\n",
    "First, I still need to extract the path names before saving the images."
   ]
  },
  {
   "cell_type": "code",
   "execution_count": 16,
   "id": "75a19af8",
   "metadata": {},
   "outputs": [],
   "source": [
    "#train\n",
    "train_imgs_path = []\n",
    "\n",
    "directory=os.listdir('train')\n",
    "for each in directory:\n",
    "    currentFolder = 'train/' + each\n",
    "    for i, file in enumerate (os.listdir(currentFolder)[0:]):\n",
    "        fullpath = currentFolder+ \"/\" + file\n",
    "        train_imgs_path.append(fullpath)\n",
    "        \n",
    "#turn it into np array\n",
    "train_imgs_path = np.array(train_imgs_path)"
   ]
  },
  {
   "cell_type": "code",
   "execution_count": 17,
   "id": "0119d7dc",
   "metadata": {},
   "outputs": [],
   "source": [
    "#validation\n",
    "valid_imgs_path = []\n",
    "\n",
    "directory=os.listdir('valid')\n",
    "for each in directory:\n",
    "    currentFolder = 'valid/' + each\n",
    "    for i, file in enumerate (os.listdir(currentFolder)[0:]):\n",
    "        fullpath = currentFolder+ \"/\" + file\n",
    "        valid_imgs_path.append(fullpath)\n",
    "\n",
    "#turn it into np array\n",
    "valid_imgs_path = np.array(valid_imgs_path)"
   ]
  },
  {
   "cell_type": "code",
   "execution_count": 18,
   "id": "4be4b81d",
   "metadata": {},
   "outputs": [],
   "source": [
    "#test\n",
    "test_imgs_path = []\n",
    "\n",
    "directory=os.listdir('test')\n",
    "for each in directory:\n",
    "    currentFolder = 'test/' + each\n",
    "    for i, file in enumerate (os.listdir(currentFolder)[0:]):\n",
    "        fullpath = currentFolder+ \"/\" + file\n",
    "        test_imgs_path.append(fullpath)\n",
    "        \n",
    "#turn it into np array\n",
    "test_imgs_path = np.array(test_imgs_path)"
   ]
  },
  {
   "cell_type": "code",
   "execution_count": 19,
   "id": "836b9f22",
   "metadata": {},
   "outputs": [],
   "source": [
    "np.savez('features_mobilenet_v2.npz',\n",
    "         #features\n",
    "         train_hl = features_train, #_hl stands for high-Level\n",
    "         validation_hl = features_validation,\n",
    "         test_hl = features_test,\n",
    "         #labels\n",
    "         labels_train = trainset.classes,\n",
    "         labels_validation = valset.classes,\n",
    "         labels_test = testset.classes,\n",
    "         #imgs\n",
    "         train_imgs = batch_imgs_train,\n",
    "         validation_imgs = batch_imgs_val,\n",
    "         test_imgs = batch_imgs_test,\n",
    "         #paths\n",
    "         train_imgs_path = train_imgs_path,\n",
    "         valid_imgs_path = valid_imgs_path,\n",
    "         test_imgs_path = test_imgs_path)"
   ]
  },
  {
   "cell_type": "code",
   "execution_count": 20,
   "id": "1e31dc08",
   "metadata": {},
   "outputs": [
    {
     "name": "stdout",
     "output_type": "stream",
     "text": [
      "X_train: (280, 1280) labels: (280,)\n",
      "X_val: (139, 1280) labels: (139,)\n",
      "X_test: (50, 1280) labels: (50,)\n",
      "train_imgs: (280, 224, 224, 3) validation_imgs: (139, 224, 224, 3) test_imgs: (50, 224, 224, 3)\n",
      "train_imgs_path: (280,) valid_imgs_path: (139,) test_imgs_path: (50,)\n"
     ]
    }
   ],
   "source": [
    "# reload the data (this is not necessary but defines once and for all the set names)\n",
    "with np.load('features_mobilenet_v2.npz', allow_pickle=False) as npz_file:\n",
    "    #features\n",
    "    X_train = npz_file['train_hl']\n",
    "    X_val = npz_file['validation_hl']\n",
    "    X_test = npz_file['test_hl']\n",
    "    #labels\n",
    "    y_train = npz_file['labels_train']\n",
    "    y_val = npz_file['labels_validation']\n",
    "    y_test = npz_file['labels_test']\n",
    "    #imgs\n",
    "    train_imgs = npz_file['train_imgs']\n",
    "    validation_imgs = npz_file['validation_imgs']\n",
    "    test_imgs = npz_file['test_imgs']\n",
    "    #paths\n",
    "    train_imgs_path = npz_file['train_imgs_path']\n",
    "    valid_imgs_path = npz_file['valid_imgs_path']\n",
    "    test_imgs_path = npz_file['test_imgs_path']\n",
    "    \n",
    "print('X_train:', X_train.shape, 'labels:', y_train.shape) \n",
    "print('X_val:', X_val.shape, 'labels:', y_val.shape) \n",
    "print('X_test:', X_test.shape, 'labels:', y_test.shape) \n",
    "print('train_imgs:', train_imgs.shape, 'validation_imgs:', validation_imgs.shape, 'test_imgs:', test_imgs.shape,)\n",
    "print('train_imgs_path:', train_imgs_path.shape, 'valid_imgs_path:', valid_imgs_path.shape, 'test_imgs_path:', test_imgs_path.shape)"
   ]
  }
 ],
 "metadata": {
  "kernelspec": {
   "display_name": "Python 3",
   "language": "python",
   "name": "python3"
  },
  "language_info": {
   "codemirror_mode": {
    "name": "ipython",
    "version": 3
   },
   "file_extension": ".py",
   "mimetype": "text/x-python",
   "name": "python",
   "nbconvert_exporter": "python",
   "pygments_lexer": "ipython3",
   "version": "3.6.11"
  }
 },
 "nbformat": 4,
 "nbformat_minor": 5
}
