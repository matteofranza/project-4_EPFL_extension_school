{
 "cells": [
  {
   "cell_type": "markdown",
   "id": "a06f28cc",
   "metadata": {},
   "source": [
    "_____________________\n",
    "<h3><b>6. Nonlinear classifiers</b></h3>\n",
    "\n",
    "___________________"
   ]
  },
  {
   "cell_type": "code",
   "execution_count": 1,
   "id": "feb1376e",
   "metadata": {},
   "outputs": [],
   "source": [
    "#import libraries\n",
    "import numpy as np\n",
    "import pandas as pd\n",
    "import os\n",
    "import matplotlib.pyplot as plt\n",
    "import matplotlib.image as mpimg\n",
    "%matplotlib inline\n",
    "import seaborn as sns\n",
    "import tensorflow as tf #tf version is 1.12\n",
    "from sklearn.preprocessing import StandardScaler\n",
    "from sklearn.pipeline import Pipeline\n",
    "from sklearn.pipeline import make_pipeline\n",
    "from sklearn.ensemble import RandomForestClassifier\n",
    "from sklearn.svm import LinearSVC\n",
    "from sklearn.svm import SVC"
   ]
  },
  {
   "cell_type": "code",
   "execution_count": 2,
   "id": "da6d817d",
   "metadata": {},
   "outputs": [],
   "source": [
    "#import data\n",
    "with np.load('features_mobilenet_v2.npz', allow_pickle=False) as npz_file:\n",
    "    #features\n",
    "    X_train = npz_file['train_hl']\n",
    "    X_val = npz_file['validation_hl']\n",
    "    X_test = npz_file['test_hl']\n",
    "    #labels\n",
    "    y_train = npz_file['labels_train']\n",
    "    y_val = npz_file['labels_validation']\n",
    "    y_test = npz_file['labels_test']\n",
    "    #imgs\n",
    "    train_imgs = npz_file['train_imgs']\n",
    "    validation_imgs = npz_file['validation_imgs']\n",
    "    test_imgs = npz_file['test_imgs']\n",
    "    #paths\n",
    "    train_imgs_path = npz_file['train_imgs_path']\n",
    "    valid_imgs_path = npz_file['valid_imgs_path']\n",
    "    test_imgs_path = npz_file['test_imgs_path']"
   ]
  },
  {
   "cell_type": "markdown",
   "id": "98598a7f",
   "metadata": {},
   "source": [
    "_____________\n",
    "><b>6.1. Random forest</b>\n",
    "___________"
   ]
  },
  {
   "cell_type": "code",
   "execution_count": 3,
   "id": "f3f46a34",
   "metadata": {},
   "outputs": [
    {
     "name": "stdout",
     "output_type": "stream",
     "text": [
      "accuracy random forest: 0.78%\n"
     ]
    }
   ],
   "source": [
    "from sklearn.ensemble import RandomForestClassifier\n",
    "\n",
    "# Create a decision tree\n",
    "forest = RandomForestClassifier(\n",
    "    n_estimators=10, #n_estimators is 10 by default (in version 0.22 will be 100)\n",
    "    criterion='gini',\n",
    "    max_depth=3,#max_depth is the same as the previous decision tree\n",
    "    random_state=0)\n",
    "\n",
    "# Fit estimate\n",
    "forest.fit(X_train, y_train)\n",
    "\n",
    "#get score\n",
    "forest_accuracy = forest.score(X_test, y_test)\n",
    "print('accuracy random forest: {:.2f}%'.format(forest_accuracy))"
   ]
  },
  {
   "cell_type": "code",
   "execution_count": 4,
   "id": "fba25fba",
   "metadata": {},
   "outputs": [
    {
     "data": {
      "text/html": [
       "<div>\n",
       "<style scoped>\n",
       "    .dataframe tbody tr th:only-of-type {\n",
       "        vertical-align: middle;\n",
       "    }\n",
       "\n",
       "    .dataframe tbody tr th {\n",
       "        vertical-align: top;\n",
       "    }\n",
       "\n",
       "    .dataframe thead th {\n",
       "        text-align: right;\n",
       "    }\n",
       "</style>\n",
       "<table border=\"1\" class=\"dataframe\">\n",
       "  <thead>\n",
       "    <tr style=\"text-align: right;\">\n",
       "      <th></th>\n",
       "      <th>model</th>\n",
       "      <th>test_accuracy</th>\n",
       "    </tr>\n",
       "  </thead>\n",
       "  <tbody>\n",
       "    <tr>\n",
       "      <th>0</th>\n",
       "      <td>random forest</td>\n",
       "      <td>0.78</td>\n",
       "    </tr>\n",
       "  </tbody>\n",
       "</table>\n",
       "</div>"
      ],
      "text/plain": [
       "           model  test_accuracy\n",
       "0  random forest           0.78"
      ]
     },
     "execution_count": 4,
     "metadata": {},
     "output_type": "execute_result"
    }
   ],
   "source": [
    "#store the accuracy in a df\n",
    "\n",
    "models_summary = {'model': ['random forest'],\n",
    "                  'test_accuracy': [forest_accuracy]}\n",
    "models_summary = pd.DataFrame(models_summary)\n",
    "models_summary"
   ]
  },
  {
   "cell_type": "markdown",
   "id": "c8bc87d4",
   "metadata": {},
   "source": [
    "Random forest is the model with the worst accuracy so far. "
   ]
  },
  {
   "cell_type": "markdown",
   "id": "fcec2013",
   "metadata": {},
   "source": [
    "Here below I test if increasing the number of trees (n_estimators parameter) returns better results. I will test trees from 0 to 1000 in steps of 10 with a grid search."
   ]
  },
  {
   "cell_type": "code",
   "execution_count": 5,
   "id": "620499cb",
   "metadata": {},
   "outputs": [],
   "source": [
    "# Variable to store the results\n",
    "forest_results = []\n",
    "\n",
    "# Grid search\n",
    "for i in np.arange(10,100,10):\n",
    "    forest.set_params(n_estimators=i)\n",
    "    forest.fit(X_train, y_train)\n",
    "    \n",
    "    forest_results.append({\n",
    "        'n_estimators': i,\n",
    "        'accuracy': forest.score(X_test, y_test),\n",
    "    })\n",
    "\n",
    "# Convert results to DataFrame\n",
    "forest_results = pd.DataFrame(forest_results)"
   ]
  },
  {
   "cell_type": "code",
   "execution_count": 6,
   "id": "2e0dd6fb",
   "metadata": {},
   "outputs": [
    {
     "data": {
      "image/png": "[encoded data removed]",
      "text/plain": [
       "<Figure size 432x288 with 1 Axes>"
      ]
     },
     "metadata": {
      "needs_background": "light"
     },
     "output_type": "display_data"
    }
   ],
   "source": [
    "#plot the results\n",
    "plt.plot(forest_results['n_estimators'], forest_results['accuracy'])\n",
    "plt.title('test scores')\n",
    "plt.xlabel('n_estimators')\n",
    "plt.ylabel('accuracy');"
   ]
  },
  {
   "cell_type": "markdown",
   "id": "6c9a6540",
   "metadata": {},
   "source": [
    "Increasing the number of trees helps till 30 then it starts to decrease"
   ]
  },
  {
   "cell_type": "markdown",
   "id": "b5aa374c",
   "metadata": {},
   "source": [
    "_________________\n",
    "><b>6.2. SVMs</b>\n",
    "\n",
    "______________"
   ]
  },
  {
   "cell_type": "markdown",
   "id": "0f787395",
   "metadata": {},
   "source": [
    ">><b>6.2.1. Linear kernel</b>\n",
    "\n",
    "______________"
   ]
  },
  {
   "cell_type": "code",
   "execution_count": 7,
   "id": "3577cf4a",
   "metadata": {},
   "outputs": [
    {
     "name": "stdout",
     "output_type": "stream",
     "text": [
      "accuracy linear kernel (svm): 0.90%\n"
     ]
    }
   ],
   "source": [
    "from sklearn.svm import LinearSVC\n",
    "\n",
    "# Create SVM with linear kernel\n",
    "linear_svc = LinearSVC()\n",
    "\n",
    "# Fit estimator\n",
    "linear_svc.fit(X_train, y_train)\n",
    "\n",
    "# Get score\n",
    "linear_kernel_accuracy = linear_svc.score(X_test, y_test)\n",
    "print('accuracy linear kernel (svm): {:.2f}%'.format(linear_kernel_accuracy))"
   ]
  },
  {
   "cell_type": "code",
   "execution_count": 8,
   "id": "510a3f6a",
   "metadata": {},
   "outputs": [
    {
     "data": {
      "text/html": [
       "<div>\n",
       "<style scoped>\n",
       "    .dataframe tbody tr th:only-of-type {\n",
       "        vertical-align: middle;\n",
       "    }\n",
       "\n",
       "    .dataframe tbody tr th {\n",
       "        vertical-align: top;\n",
       "    }\n",
       "\n",
       "    .dataframe thead th {\n",
       "        text-align: right;\n",
       "    }\n",
       "</style>\n",
       "<table border=\"1\" class=\"dataframe\">\n",
       "  <thead>\n",
       "    <tr style=\"text-align: right;\">\n",
       "      <th></th>\n",
       "      <th>model</th>\n",
       "      <th>test_accuracy</th>\n",
       "    </tr>\n",
       "  </thead>\n",
       "  <tbody>\n",
       "    <tr>\n",
       "      <th>0</th>\n",
       "      <td>random forest</td>\n",
       "      <td>0.78</td>\n",
       "    </tr>\n",
       "    <tr>\n",
       "      <th>1</th>\n",
       "      <td>svm linear</td>\n",
       "      <td>0.90</td>\n",
       "    </tr>\n",
       "  </tbody>\n",
       "</table>\n",
       "</div>"
      ],
      "text/plain": [
       "           model  test_accuracy\n",
       "0  random forest           0.78\n",
       "1     svm linear           0.90"
      ]
     },
     "execution_count": 8,
     "metadata": {},
     "output_type": "execute_result"
    }
   ],
   "source": [
    "#store the accuracy in a df\n",
    "models_summary = models_summary.append({'model': 'svm linear',\n",
    "                                        'test_accuracy': linear_kernel_accuracy}, ignore_index=True)\n",
    "models_summary"
   ]
  },
  {
   "cell_type": "markdown",
   "id": "22c17724",
   "metadata": {},
   "source": [
    "____________\n",
    ">><b>6.2.2. RBF kernel</b>\n",
    "\n",
    "__________"
   ]
  },
  {
   "cell_type": "code",
   "execution_count": 9,
   "id": "5d0aed8a",
   "metadata": {},
   "outputs": [
    {
     "name": "stdout",
     "output_type": "stream",
     "text": [
      "accuracy rbf kernel (svm): 0.94%\n"
     ]
    }
   ],
   "source": [
    "from sklearn.svm import SVC\n",
    "\n",
    "# Create SVM with RBF kernel\n",
    "rbf_svc = SVC(kernel='rbf', \n",
    "              C=1,#C=1 is the default\n",
    "              gamma = 'auto')#this param silence the warning. It can be either auto or scale. auto = 1 / n_features\n",
    "\n",
    "# Fit estimator\n",
    "rbf_svc.fit(X_train, y_train)\n",
    "\n",
    "# Get score\n",
    "rbf_kernel_accuracy = rbf_svc.score(X_test, y_test)\n",
    "print('accuracy rbf kernel (svm): {:.2f}%'.format(rbf_kernel_accuracy))"
   ]
  },
  {
   "cell_type": "code",
   "execution_count": 10,
   "id": "a41db444",
   "metadata": {},
   "outputs": [
    {
     "data": {
      "text/html": [
       "<div>\n",
       "<style scoped>\n",
       "    .dataframe tbody tr th:only-of-type {\n",
       "        vertical-align: middle;\n",
       "    }\n",
       "\n",
       "    .dataframe tbody tr th {\n",
       "        vertical-align: top;\n",
       "    }\n",
       "\n",
       "    .dataframe thead th {\n",
       "        text-align: right;\n",
       "    }\n",
       "</style>\n",
       "<table border=\"1\" class=\"dataframe\">\n",
       "  <thead>\n",
       "    <tr style=\"text-align: right;\">\n",
       "      <th></th>\n",
       "      <th>model</th>\n",
       "      <th>test_accuracy</th>\n",
       "    </tr>\n",
       "  </thead>\n",
       "  <tbody>\n",
       "    <tr>\n",
       "      <th>0</th>\n",
       "      <td>random forest</td>\n",
       "      <td>0.78</td>\n",
       "    </tr>\n",
       "    <tr>\n",
       "      <th>1</th>\n",
       "      <td>svm linear</td>\n",
       "      <td>0.90</td>\n",
       "    </tr>\n",
       "    <tr>\n",
       "      <th>2</th>\n",
       "      <td>svm rbf</td>\n",
       "      <td>0.94</td>\n",
       "    </tr>\n",
       "  </tbody>\n",
       "</table>\n",
       "</div>"
      ],
      "text/plain": [
       "           model  test_accuracy\n",
       "0  random forest           0.78\n",
       "1     svm linear           0.90\n",
       "2        svm rbf           0.94"
      ]
     },
     "execution_count": 10,
     "metadata": {},
     "output_type": "execute_result"
    }
   ],
   "source": [
    "#store the accuracy in a df\n",
    "models_summary = models_summary.append({'model': 'svm rbf',\n",
    "                                        'test_accuracy': rbf_kernel_accuracy}, ignore_index=True)\n",
    "models_summary"
   ]
  },
  {
   "cell_type": "code",
   "execution_count": 11,
   "id": "8633b372",
   "metadata": {},
   "outputs": [
    {
     "data": {
      "image/png": "[encoded data removed]",
      "text/plain": [
       "<Figure size 432x288 with 1 Axes>"
      ]
     },
     "metadata": {
      "needs_background": "light"
     },
     "output_type": "display_data"
    }
   ],
   "source": [
    "#plot accuracies comparison\n",
    "sns.barplot(x='model', y='test_accuracy',data=models_summary).set(xlabel=None, ylabel='Test accuracy')\n",
    "plt.title('Nonlinear classifiers comparison', size=18);#note that the linear kernel is not a nonlinear classifier"
   ]
  },
  {
   "cell_type": "code",
   "execution_count": 12,
   "id": "b2d017e1",
   "metadata": {},
   "outputs": [],
   "source": [
    "models_summary.to_csv(\"models_summary.csv\", mode='a', index=False, header=False)#append to models_summary"
   ]
  }
 ],
 "metadata": {
  "kernelspec": {
   "display_name": "Python 3",
   "language": "python",
   "name": "python3"
  },
  "language_info": {
   "codemirror_mode": {
    "name": "ipython",
    "version": 3
   },
   "file_extension": ".py",
   "mimetype": "text/x-python",
   "name": "python",
   "nbconvert_exporter": "python",
   "pygments_lexer": "ipython3",
   "version": "3.6.11"
  }
 },
 "nbformat": 4,
 "nbformat_minor": 5
}
